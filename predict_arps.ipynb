{
 "cells": [
  {
   "cell_type": "code",
   "execution_count": 51,
   "id": "mechanical-customer",
   "metadata": {},
   "outputs": [],
   "source": [
    "import pandas as pd\n",
    "import numpy as np\n",
    "import matplotlib.pyplot as plt\n",
    "\n",
    "from scipy.optimize import curve_fit\n",
    "from arps.dca import (\n",
    "      hyperbolic_equation, \n",
    "      get_min_or_max_value_in_column_by_group,\n",
    "      get_max_initial_production,\n",
    "      plot_actual_vs_predicted_by_equations,\n",
    "      remove_nan_and_zeroes_from_columns\n",
    ")\n",
    "from arps.fit_arps import execute_arps\n",
    "df = pd.read_csv(\"recoil_daily_prod.csv\")\n",
    "df = df.astype({\"API\": str,'OIL (BBL)':float})\n",
    "df = df[(df['OIL (BBL)'].notnull()) & (df['OIL (BBL)']>0)]\n",
    "df['days'] = df.groupby('API').cumcount()+1"
   ]
  },
  {
   "cell_type": "code",
   "execution_count": 52,
   "id": "blond-forty",
   "metadata": {},
   "outputs": [
    {
     "name": "stdout",
     "output_type": "stream",
     "text": [
      "[[Model]]\n",
      "    Model(hyperbolic_equation)\n",
      "[[Fit Statistics]]\n",
      "    # fitting method   = leastsq\n",
      "    # function evals   = 125\n",
      "    # data points      = 2251\n",
      "    # variables        = 3\n",
      "    chi-square         = 912012.741\n",
      "    reduced chi-square = 405.699618\n",
      "    Akaike info crit   = 13521.6329\n",
      "    Bayesian info crit = 13538.7903\n",
      "[[Variables]]\n",
      "    qi:  232.191630 +/- 3.76946051 (1.62%) (init = 1000)\n",
      "    b:   0.67128788 +/- 0.03080838 (4.59%) (init = 3)\n",
      "    di:  0.00565920 +/- 2.5839e-04 (4.57%) (init = 0.8)\n",
      "[[Correlations]] (unreported correlations are < 0.100)\n",
      "    C(b, di)  =  0.873\n",
      "    C(qi, di) =  0.829\n",
      "    C(qi, b)  =  0.573\n",
      "R-Square:  0.8085232944149098\n",
      "EUR: 98637.23475690119 BBL\n"
     ]
    },
    {
     "data": {
      "image/png": "[encoded data removed]",
      "text/plain": [
       "<Figure size 432x288 with 1 Axes>"
      ]
     },
     "metadata": {
      "needs_background": "light"
     },
     "output_type": "display_data"
    }
   ],
   "source": [
    "import numpy as np\n",
    "from lmfit import Model\n",
    "import matplotlib.pyplot as plt\n",
    "from arps.dca import hyperbolic_equation\n",
    "\n",
    "filtered_df = df[df.API=='42493327380000']\n",
    "\n",
    "cumsum_days = filtered_df['days']\n",
    "prod = filtered_df['OIL (BBL)']\n",
    "\n",
    "# plot data\n",
    "plt.plot(cumsum_days, prod,label='data',linewidth=1)\n",
    "\n",
    "# build Model\n",
    "hmodel = Model(hyperbolic_equation)\n",
    "\n",
    "# create lmfit Parameters, named from the arguments of `hyperbolic_equation`\n",
    "# note that you really must provide initial values.\n",
    "#params = hmodel.make_params(qi=431.0371968722894, b=0.5443981508109322, di=0.006643764565975722)\n",
    "\n",
    "params = hmodel.make_params(qi=1000, b=3, di=.8)\n",
    "\n",
    "\n",
    "\n",
    "# set bounds on parameters\n",
    "params['qi'].min=0\n",
    "params['b'].min=0.5\n",
    "params['di'].min=0\n",
    "\n",
    "# do fit, print resulting parameters\n",
    "result = hmodel.fit(prod, params, t=cumsum_days)\n",
    "\n",
    "y = prod\n",
    "y_fit = result.best_fit\n",
    "\n",
    "ss_res = np.sum((y - y_fit) ** 2)\n",
    "# total sum of squares\n",
    "ss_tot = np.sum((y - np.mean(y)) ** 2)\n",
    "# r-squared\n",
    "r2 = 1 - (ss_res / ss_tot)\n",
    "print(result.fit_report())\n",
    "print(\"R-Square: \",r2)\n",
    "\n",
    "# plot best fit: not that great of fit, really\n",
    "plt.plot(cumsum_days, result.best_fit, 'r--', label='fit',linewidth=3)\n",
    "\n",
    "# calculate the (1 sigma) uncertainty in the predicted model\n",
    "# and plot that as a confidence band\n",
    "dprod = result.eval_uncertainty(result.params, sigma=10)   \n",
    "plt.fill_between(cumsum_days,\n",
    "                 result.best_fit-dprod,\n",
    "                 result.best_fit+dprod,\n",
    "                 color=\"#AB8888\",\n",
    "                 label='uncertainty band of fit')\n",
    "\n",
    "# now evaluate the model for other values, predicting future values\n",
    "future_days = np.array(np.arange(max(cumsum_days+1),2434+3000))\n",
    "future_prod = result.eval(t=future_days)\n",
    "eur = sum(prod)+sum(future_prod)\n",
    "\n",
    "plt.plot(future_days, future_prod, 'k--', label='prediction')\n",
    "\n",
    "# ...and calculate the 1-sigma uncertainty in the future prediction\n",
    "# for 95% confidence level, you'd want to use `sigma=2` here:\n",
    "future_dprod = result.eval_uncertainty(t=future_days, sigma=1)\n",
    "\n",
    "#print(\"### Prediction\\n# Day  Prod     Uncertainty\")\n",
    "\n",
    "# for day, prod, eps in zip(future_days, future_prod, future_dprod):\n",
    "#     print(\" {:.1f}   {:.1f} +/- {:.1f}\".format(day, prod, eps))\n",
    "\n",
    "plt.fill_between(future_days,\n",
    "                 future_prod-future_dprod,\n",
    "                 future_prod+future_dprod,\n",
    "                 color=\"#ABABAB\",\n",
    "                 label='uncertainty band of prediction')\n",
    "\n",
    "plt.legend(loc='upper right')\n",
    "print(\"EUR:\", eur,\"BBL\")\n",
    "plt.show()"
   ]
  },
  {
   "cell_type": "code",
   "execution_count": null,
   "id": "toxic-wellington",
   "metadata": {},
   "outputs": [],
   "source": []
  }
 ],
 "metadata": {
  "kernelspec": {
   "display_name": "Python 3",
   "language": "python",
   "name": "python3"
  },
  "language_info": {
   "codemirror_mode": {
    "name": "ipython",
    "version": 3
   },
   "file_extension": ".py",
   "mimetype": "text/x-python",
   "name": "python",
   "nbconvert_exporter": "python",
   "pygments_lexer": "ipython3",
   "version": "3.7.3"
  }
 },
 "nbformat": 4,
 "nbformat_minor": 5
}
